{
  "nbformat": 4,
  "nbformat_minor": 0,
  "metadata": {
    "colab": {
      "name": "Copy of fashion_mnist_keras.ipynb",
      "version": "0.3.2",
      "provenance": [],
      "collapsed_sections": [],
      "include_colab_link": true
    },
    "kernelspec": {
      "name": "python3",
      "display_name": "Python 3"
    },
    "accelerator": "GPU"
  },
  "cells": [
    {
      "cell_type": "markdown",
      "metadata": {
        "id": "view-in-github",
        "colab_type": "text"
      },
      "source": [
        "<a href=\"https://colab.research.google.com/github/mipster/kerastest/blob/master/Copy_of_fashion_mnist_keras.ipynb\" target=\"_parent\"><img src=\"https://colab.research.google.com/assets/colab-badge.svg\" alt=\"Open In Colab\"/></a>"
      ]
    },
    {
      "metadata": {
        "id": "r2NPAI4jZZgi",
        "colab_type": "text"
      },
      "cell_type": "markdown",
      "source": [
        "# Modern Deep Learning: \n",
        "# Classify <strike>Fashion-MNIST</strike> Google Doodles with a simple CNN in Keras\n",
        "\n",
        "<br> By Margaret Maynard-Reid, 4/24/2018 - modified by Maciej Dudek 01/15/2019\n",
        "\n"
      ]
    },
    {
      "metadata": {
        "id": "Ixyte299ZZgk",
        "colab_type": "text"
      },
      "cell_type": "markdown",
      "source": [
        "## Notebook Overview\n",
        "\n",
        "<br> **Notebook location on github**:https://github.com/mipster/kerastest/blob/master/Copy_of_fashion_mnist_keras.ipynb\n",
        "\n",
        "This is a tutorial of how to classify <strike>**fashion_mnist**</strike> Google Quickdraw Doodles data with a simple **Convolutional Neural Network** in Keras. \n",
        "\n",
        "The [Quickdraw](https://console.cloud.google.com/storage/browser/quickdraw_dataset/full/numpy_bitmap/?pli=1)\n",
        "data: 50,000,000 drawings and 345 categories. Each gray-scale image is 28x28.\n",
        "\n",
        "The documentation can be seen [here](https://github.com/googlecreativelab/quickdraw-dataset)\n",
        "\n",
        "For this project I've selected these categories:\n",
        "\n",
        "<br> **Label**\t**Description**\n",
        "<br><strike> 0 Windmill</strike>\n",
        "<br> 1 The Great Wall of China\n",
        "<br> 2 Squiggle\n",
        "<br> 3 Smiley face\n",
        "<br> 4 Shark\n",
        "<br> <strike>5 Hot Dog\n",
        "<br> 6 Crocodile\n",
        "<br> 7 Bicycle\n",
        "<br> 8 Banana\n",
        "<br> 9 Duck</strike>\n",
        "\n",
        "Each gray-scale image is 28x28"
      ]
    },
    {
      "metadata": {
        "id": "1jQGPl2l7kF7",
        "colab_type": "toc"
      },
      "cell_type": "markdown",
      "source": [
        ">[Modern Deep Learning:](#scrollTo=r2NPAI4jZZgi)\n",
        "\n",
        ">[Classify Fashion-MNIST with a simple CNN in Keras](#scrollTo=r2NPAI4jZZgi)\n",
        "\n",
        ">>[Why Jupyter Notebook?](#scrollTo=18xLQCydFHqi)\n",
        "\n",
        ">>[Why Fashion-MNIST?](#scrollTo=XLMRPLVCFwEc)\n",
        "\n",
        ">>[Notebook Overview](#scrollTo=Ixyte299ZZgk)\n",
        "\n",
        ">>[Download the fashion_mnist data](#scrollTo=LbCigZtNZZgl)\n",
        "\n",
        ">>[Visualize the data](#scrollTo=tWORMSC8FDR4)\n",
        "\n",
        ">>[Data normalization](#scrollTo=Zx-Ee6LHZZgt)\n",
        "\n",
        ">>[Split the data into train/validation/test data sets](#scrollTo=CFlNHktHBtru)\n",
        "\n",
        ">>[Create the model architecture](#scrollTo=HhalcO03ZZg3)\n",
        "\n",
        ">>[Compile the model](#scrollTo=FhxJ5dinZZg8)\n",
        "\n",
        ">>[Train the model](#scrollTo=DtOvh3YVZZg_)\n",
        "\n",
        ">>[Load Model with the best validation accuracy](#scrollTo=e-MGLwZQy05d)\n",
        "\n",
        ">>[Test Accuracy](#scrollTo=9RTRkan4yq5H)\n",
        "\n",
        ">>[Visualize prediction](#scrollTo=oJv7XEk10bOv)\n",
        "\n",
        ">>[Congragulations!](#scrollTo=8AehWdRAVKN5)\n",
        "\n"
      ]
    },
    {
      "metadata": {
        "id": "LbCigZtNZZgl",
        "colab_type": "text"
      },
      "cell_type": "markdown",
      "source": [
        "## Download the Quickdraw data\n",
        "First let's install TensorFlow version 1.8.0 and import Tensorflow. Then we download the selected quickdraw dataset."
      ]
    },
    {
      "metadata": {
        "id": "d44TznbgZZgm",
        "colab_type": "code",
        "outputId": "c2497bb0-2b09-4dda-8835-4282c76691c3",
        "colab": {
          "base_uri": "https://localhost:8080/",
          "height": 170
        }
      },
      "cell_type": "code",
      "source": [
        "!pip install -q -U tensorflow>=1.8.0\n",
        "import tensorflow as tf\n",
        "\n",
        "import numpy as np\n",
        "import matplotlib.pyplot as plt\n",
        "\n",
        "# Load the fashion-mnist pre-shuffled train data and test data\n",
        "(x_train, y_train), (x_test, y_test) = tf.keras.datasets.fashion_mnist.load_data()\n",
        "\n",
        "print(\"x_train shape:\", x_train.shape, \"y_train shape:\", y_train.shape)"
      ],
      "execution_count": 0,
      "outputs": [
        {
          "output_type": "stream",
          "text": [
            "Downloading data from https://storage.googleapis.com/tensorflow/tf-keras-datasets/train-labels-idx1-ubyte.gz\n",
            "32768/29515 [=================================] - 0s 0us/step\n",
            "Downloading data from https://storage.googleapis.com/tensorflow/tf-keras-datasets/train-images-idx3-ubyte.gz\n",
            "26427392/26421880 [==============================] - 0s 0us/step\n",
            "Downloading data from https://storage.googleapis.com/tensorflow/tf-keras-datasets/t10k-labels-idx1-ubyte.gz\n",
            "8192/5148 [===============================================] - 0s 0us/step\n",
            "Downloading data from https://storage.googleapis.com/tensorflow/tf-keras-datasets/t10k-images-idx3-ubyte.gz\n",
            "4423680/4422102 [==============================] - 0s 0us/step\n",
            "x_train shape: (60000, 28, 28) y_train shape: (60000,)\n"
          ],
          "name": "stdout"
        }
      ]
    },
    {
      "metadata": {
        "id": "jLUv9aOAaxCp",
        "colab_type": "code",
        "colab": {}
      },
      "cell_type": "code",
      "source": [
        "\n",
        "import numpy as np\n",
        "from sklearn.model_selection import train_test_split\n",
        "from os import walk, getcwd\n",
        "import h5py"
      ],
      "execution_count": 0,
      "outputs": []
    },
    {
      "metadata": {
        "id": "OdY1I2kea6V5",
        "colab_type": "code",
        "colab": {}
      },
      "cell_type": "code",
      "source": [
        "##Place all the npy quickdraw files here:\n",
        "mypath = \"data/\"\n",
        "txt_name_list = []\n",
        "for (dirpath, dirnames, filenames) in walk(mypath):\n",
        "    if filenames != '.DS_Store':       ##Ugh mac junk\n",
        "        txt_name_list.extend(filenames)\n",
        "        break"
      ],
      "execution_count": 0,
      "outputs": []
    },
    {
      "metadata": {
        "id": "tWORMSC8FDR4",
        "colab_type": "text"
      },
      "cell_type": "markdown",
      "source": [
        "## Visualize the data"
      ]
    },
    {
      "metadata": {
        "id": "aFe4wHGRFKle",
        "colab_type": "code",
        "outputId": "a5b84952-0887-43f5-e3ea-1cbd7fa8b92a",
        "colab": {
          "base_uri": "https://localhost:8080/",
          "height": 432
        }
      },
      "cell_type": "code",
      "source": [
        "# Print training set shape - note there are 60,000 training data of image size of 28x28, 60,000 train labels)\n",
        "print(\"x_train shape:\", x_train.shape, \"y_train shape:\", y_train.shape)\n",
        "\n",
        "# Print the number of training and test datasets\n",
        "print(x_train.shape[0], 'train set')\n",
        "print(x_test.shape[0], 'test set')\n",
        "\n",
        "# Define the text labels\n",
        "fashion_mnist_labels = [\"T-shirt/top\",  # index 0\n",
        "                        \"Trouser\",      # index 1\n",
        "                        \"Pullover\",     # index 2 \n",
        "                        \"Dress\",        # index 3 \n",
        "                        \"Coat\",         # index 4\n",
        "                        \"Sandal\",       # index 5\n",
        "                        \"Shirt\",        # index 6 \n",
        "                        \"Sneaker\",      # index 7 \n",
        "                        \"Bag\",          # index 8 \n",
        "                        \"Ankle boot\"]   # index 9\n",
        "\n",
        "# Image index, you can pick any number between 0 and 59,999\n",
        "img_index = 5000\n",
        "# y_train contains the lables, ranging from 0 to 9\n",
        "label_index = y_train[img_index]\n",
        "# Print the label, for example 2 Pullover\n",
        "print (\"y = \" + str(label_index) + \" \" +(fashion_mnist_labels[label_index]))\n",
        "# # Show one of the images from the training dataset\n",
        "plt.imshow(x_train[img_index])"
      ],
      "execution_count": 0,
      "outputs": [
        {
          "output_type": "stream",
          "text": [
            "x_train shape: (60000, 28, 28) y_train shape: (60000,)\n",
            "60000 train set\n",
            "10000 test set\n",
            "y = 4 Coat\n"
          ],
          "name": "stdout"
        },
        {
          "output_type": "execute_result",
          "data": {
            "text/plain": [
              "<matplotlib.image.AxesImage at 0x7f4d111ce748>"
            ]
          },
          "metadata": {
            "tags": []
          },
          "execution_count": 3
        },
        {
          "output_type": "display_data",
          "data": {
            "image/png": "[encoded data removed]",
            "text/plain": [
              "<matplotlib.figure.Figure at 0x7f4d13ab0d68>"
            ]
          },
          "metadata": {
            "tags": []
          }
        }
      ]
    },
    {
      "metadata": {
        "id": "Zx-Ee6LHZZgt",
        "colab_type": "text"
      },
      "cell_type": "markdown",
      "source": [
        "## Data normalization\n",
        "Normalize the data dimensions so that they are of approximately the same scale."
      ]
    },
    {
      "metadata": {
        "id": "XNh5NIckZZgu",
        "colab_type": "code",
        "colab": {}
      },
      "cell_type": "code",
      "source": [
        "x_train = x_train.astype('float32') / 255\n",
        "x_test = x_test.astype('float32') / 255"
      ],
      "execution_count": 0,
      "outputs": []
    },
    {
      "metadata": {
        "id": "LMSg53fiZZgx",
        "colab_type": "code",
        "outputId": "765c0b33-a648-4033-eacd-85830bb5baa8",
        "colab": {
          "base_uri": "https://localhost:8080/",
          "height": 51
        }
      },
      "cell_type": "code",
      "source": [
        "print(\"Number of train data - \" + str(len(x_train)))\n",
        "print(\"Number of test data - \" + str(len(x_test)))"
      ],
      "execution_count": 0,
      "outputs": [
        {
          "output_type": "stream",
          "text": [
            "Number of train data - 60000\n",
            "Number of test data - 10000\n"
          ],
          "name": "stdout"
        }
      ]
    },
    {
      "metadata": {
        "id": "CFlNHktHBtru",
        "colab_type": "text"
      },
      "cell_type": "markdown",
      "source": [
        "## Split the data into train/validation/test data sets\n",
        "\n",
        "\n",
        "*   Training data - used for training the model\n",
        "*   Validation data - used for tuning the hyperparameters and evaluate the models\n",
        "*   Test data - used to test the model after the model has gone through initial vetting by the validation set.\n",
        "\n"
      ]
    },
    {
      "metadata": {
        "id": "1ShU787gZZg0",
        "colab_type": "code",
        "outputId": "4aa95817-ae90-4321-a34d-4e6a2b92298d",
        "colab": {
          "base_uri": "https://localhost:8080/",
          "height": 85
        }
      },
      "cell_type": "code",
      "source": [
        "# Further break training data into train / validation sets (# put 5000 into validation set and keep remaining 55,000 for train)\n",
        "(x_train, x_valid) = x_train[5000:], x_train[:5000] \n",
        "(y_train, y_valid) = y_train[5000:], y_train[:5000]\n",
        "\n",
        "# Reshape input data from (28, 28) to (28, 28, 1)\n",
        "w, h = 28, 28\n",
        "x_train = x_train.reshape(x_train.shape[0], w, h, 1)\n",
        "x_valid = x_valid.reshape(x_valid.shape[0], w, h, 1)\n",
        "x_test = x_test.reshape(x_test.shape[0], w, h, 1)\n",
        "\n",
        "# One-hot encode the labels\n",
        "y_train = tf.keras.utils.to_categorical(y_train, 10)\n",
        "y_valid = tf.keras.utils.to_categorical(y_valid, 10)\n",
        "y_test = tf.keras.utils.to_categorical(y_test, 10)\n",
        "\n",
        "# Print training set shape\n",
        "print(\"x_train shape:\", x_train.shape, \"y_train shape:\", y_train.shape)\n",
        "\n",
        "# Print the number of training, validation, and test datasets\n",
        "print(x_train.shape[0], 'train set')\n",
        "print(x_valid.shape[0], 'validation set')\n",
        "print(x_test.shape[0], 'test set')"
      ],
      "execution_count": 0,
      "outputs": [
        {
          "output_type": "stream",
          "text": [
            "x_train shape: (55000, 28, 28, 1) y_train shape: (55000, 10)\n",
            "55000 train set\n",
            "5000 validation set\n",
            "10000 test set\n"
          ],
          "name": "stdout"
        }
      ]
    },
    {
      "metadata": {
        "id": "HhalcO03ZZg3",
        "colab_type": "text"
      },
      "cell_type": "markdown",
      "source": [
        "## Create the model architecture\n",
        "\n",
        "There are two APIs for defining a model in Keras:\n",
        "1. [Sequential model API](https://keras.io/models/sequential/)\n",
        "2. [Functional API](https://keras.io/models/model/)\n",
        "\n",
        "In this notebook we are using the Sequential model API. \n",
        "If you are interested in a tutorial using the Functional API, checkout Sara Robinson's blog [Predicting the price of wine with the Keras Functional API and TensorFlow](https://medium.com/tensorflow/predicting-the-price-of-wine-with-the-keras-functional-api-and-tensorflow-a95d1c2c1b03).\n",
        "\n",
        "In defining the model we will be using some of these Keras APIs:\n",
        "*   Conv2D() [link text](https://www.tensorflow.org/api_docs/python/tf/keras/layers/Conv2D/) - create a convolutional layer \n",
        "*   Pooling() [link text](https://keras.io/layers/pooling/) - create a pooling layer \n",
        "*   Dropout() [link text](https://www.tensorflow.org/api_docs/python/tf/keras/layers/Dropout) - apply drop out "
      ]
    },
    {
      "metadata": {
        "id": "QgTZ47SsZZg4",
        "colab_type": "code",
        "outputId": "61cce6f5-074a-49e8-8c3c-4a82a1d18042",
        "colab": {
          "base_uri": "https://localhost:8080/",
          "height": 476
        }
      },
      "cell_type": "code",
      "source": [
        "model = tf.keras.Sequential()\n",
        "\n",
        "# Must define the input shape in the first layer of the neural network\n",
        "model.add(tf.keras.layers.Conv2D(filters=64, kernel_size=2, padding='same', activation='relu', input_shape=(28,28,1))) \n",
        "model.add(tf.keras.layers.MaxPooling2D(pool_size=2))\n",
        "model.add(tf.keras.layers.Dropout(0.3))\n",
        "\n",
        "model.add(tf.keras.layers.Conv2D(filters=32, kernel_size=2, padding='same', activation='relu'))\n",
        "model.add(tf.keras.layers.MaxPooling2D(pool_size=2))\n",
        "model.add(tf.keras.layers.Dropout(0.3))\n",
        "\n",
        "model.add(tf.keras.layers.Flatten())\n",
        "model.add(tf.keras.layers.Dense(256, activation='relu'))\n",
        "model.add(tf.keras.layers.Dropout(0.5))\n",
        "model.add(tf.keras.layers.Dense(10, activation='softmax'))\n",
        "\n",
        "# Take a look at the model summary\n",
        "model.summary()"
      ],
      "execution_count": 0,
      "outputs": [
        {
          "output_type": "stream",
          "text": [
            "_________________________________________________________________\n",
            "Layer (type)                 Output Shape              Param #   \n",
            "=================================================================\n",
            "conv2d (Conv2D)              (None, 28, 28, 64)        320       \n",
            "_________________________________________________________________\n",
            "max_pooling2d (MaxPooling2D) (None, 14, 14, 64)        0         \n",
            "_________________________________________________________________\n",
            "dropout (Dropout)            (None, 14, 14, 64)        0         \n",
            "_________________________________________________________________\n",
            "conv2d_1 (Conv2D)            (None, 14, 14, 32)        8224      \n",
            "_________________________________________________________________\n",
            "max_pooling2d_1 (MaxPooling2 (None, 7, 7, 32)          0         \n",
            "_________________________________________________________________\n",
            "dropout_1 (Dropout)          (None, 7, 7, 32)          0         \n",
            "_________________________________________________________________\n",
            "flatten (Flatten)            (None, 1568)              0         \n",
            "_________________________________________________________________\n",
            "dense (Dense)                (None, 256)               401664    \n",
            "_________________________________________________________________\n",
            "dropout_2 (Dropout)          (None, 256)               0         \n",
            "_________________________________________________________________\n",
            "dense_1 (Dense)              (None, 10)                2570      \n",
            "=================================================================\n",
            "Total params: 412,778\n",
            "Trainable params: 412,778\n",
            "Non-trainable params: 0\n",
            "_________________________________________________________________\n"
          ],
          "name": "stdout"
        }
      ]
    },
    {
      "metadata": {
        "id": "FhxJ5dinZZg8",
        "colab_type": "text"
      },
      "cell_type": "markdown",
      "source": [
        "## Compile the model\n",
        "Configure the learning process with compile() API before training the model. It receives three arguments:\n",
        "\n",
        "*   An optimizer \n",
        "*   A loss function \n",
        "*   A list of metrics \n"
      ]
    },
    {
      "metadata": {
        "id": "CQUlOa8cZZg9",
        "colab_type": "code",
        "colab": {}
      },
      "cell_type": "code",
      "source": [
        "model.compile(loss='categorical_crossentropy',\n",
        "             optimizer='adam',\n",
        "             metrics=['accuracy'])"
      ],
      "execution_count": 0,
      "outputs": []
    },
    {
      "metadata": {
        "id": "DtOvh3YVZZg_",
        "colab_type": "text"
      },
      "cell_type": "markdown",
      "source": [
        "## Train the model\n",
        "\n",
        "Now let's train the model with fit() API.\n",
        "\n",
        "We use  the [ModelCheckpoint](https://keras.io/callbacks/#modelcheckpoint) API to save the model after every epoch. Set \"save_best_only = True\" to save only when the validation accuracy improves.\n"
      ]
    },
    {
      "metadata": {
        "id": "ZTmapAttZZhA",
        "colab_type": "code",
        "outputId": "b43d0a68-61a4-46e6-af8b-729b8790a009",
        "colab": {
          "base_uri": "https://localhost:8080/",
          "height": 748
        }
      },
      "cell_type": "code",
      "source": [
        "from keras.callbacks import ModelCheckpoint\n",
        "\n",
        "checkpointer = ModelCheckpoint(filepath='model.weights.best.hdf5', verbose = 1, save_best_only=True)\n",
        "model.fit(x_train,\n",
        "         y_train,\n",
        "         batch_size=64,\n",
        "         epochs=10,\n",
        "         validation_data=(x_valid, y_valid),\n",
        "         callbacks=[checkpointer])"
      ],
      "execution_count": 0,
      "outputs": [
        {
          "output_type": "stream",
          "text": [
            "Using TensorFlow backend.\n"
          ],
          "name": "stderr"
        },
        {
          "output_type": "stream",
          "text": [
            "Train on 55000 samples, validate on 5000 samples\n",
            "Epoch 1/10\n",
            "54912/55000 [============================>.] - ETA: 0s - loss: 0.5979 - acc: 0.7796\n",
            "Epoch 00001: val_loss improved from inf to 0.36580, saving model to model.weights.best.hdf5\n",
            "55000/55000 [==============================] - 12s 213us/step - loss: 0.5977 - acc: 0.7797 - val_loss: 0.3658 - val_acc: 0.8662\n",
            "Epoch 2/10\n",
            "54848/55000 [============================>.] - ETA: 0s - loss: 0.4070 - acc: 0.8516\n",
            "Epoch 00002: val_loss improved from 0.36580 to 0.32390, saving model to model.weights.best.hdf5\n",
            "55000/55000 [==============================] - 8s 142us/step - loss: 0.4069 - acc: 0.8517 - val_loss: 0.3239 - val_acc: 0.8842\n",
            "Epoch 3/10\n",
            "54720/55000 [============================>.] - ETA: 0s - loss: 0.3633 - acc: 0.8677\n",
            "Epoch 00003: val_loss improved from 0.32390 to 0.28812, saving model to model.weights.best.hdf5\n",
            "55000/55000 [==============================] - 8s 145us/step - loss: 0.3628 - acc: 0.8678 - val_loss: 0.2881 - val_acc: 0.8944\n",
            "Epoch 4/10\n",
            "54848/55000 [============================>.] - ETA: 0s - loss: 0.3379 - acc: 0.8755\n",
            "Epoch 00004: val_loss improved from 0.28812 to 0.27787, saving model to model.weights.best.hdf5\n",
            "55000/55000 [==============================] - 8s 141us/step - loss: 0.3379 - acc: 0.8755 - val_loss: 0.2779 - val_acc: 0.8986\n",
            "Epoch 5/10\n",
            "54720/55000 [============================>.] - ETA: 0s - loss: 0.3182 - acc: 0.8836\n",
            "Epoch 00005: val_loss improved from 0.27787 to 0.26622, saving model to model.weights.best.hdf5\n",
            "55000/55000 [==============================] - 8s 141us/step - loss: 0.3185 - acc: 0.8835 - val_loss: 0.2662 - val_acc: 0.9020\n",
            "Epoch 6/10\n",
            "54912/55000 [============================>.] - ETA: 0s - loss: 0.3021 - acc: 0.8905\n",
            "Epoch 00006: val_loss improved from 0.26622 to 0.25157, saving model to model.weights.best.hdf5\n",
            "55000/55000 [==============================] - 8s 141us/step - loss: 0.3022 - acc: 0.8904 - val_loss: 0.2516 - val_acc: 0.9076\n",
            "Epoch 7/10\n",
            "54912/55000 [============================>.] - ETA: 0s - loss: 0.2911 - acc: 0.8924\n",
            "Epoch 00007: val_loss improved from 0.25157 to 0.24006, saving model to model.weights.best.hdf5\n",
            "55000/55000 [==============================] - 8s 141us/step - loss: 0.2909 - acc: 0.8925 - val_loss: 0.2401 - val_acc: 0.9130\n",
            "Epoch 8/10\n",
            "54976/55000 [============================>.] - ETA: 0s - loss: 0.2811 - acc: 0.8956\n",
            "Epoch 00008: val_loss did not improve from 0.24006\n",
            "55000/55000 [==============================] - 8s 140us/step - loss: 0.2812 - acc: 0.8956 - val_loss: 0.2439 - val_acc: 0.9078\n",
            "Epoch 9/10\n",
            "54656/55000 [============================>.] - ETA: 0s - loss: 0.2726 - acc: 0.8994\n",
            "Epoch 00009: val_loss improved from 0.24006 to 0.22505, saving model to model.weights.best.hdf5\n",
            "55000/55000 [==============================] - 8s 141us/step - loss: 0.2726 - acc: 0.8994 - val_loss: 0.2250 - val_acc: 0.9194\n",
            "Epoch 10/10\n",
            "54848/55000 [============================>.] - ETA: 0s - loss: 0.2653 - acc: 0.9019\n",
            "Epoch 00010: val_loss did not improve from 0.22505\n",
            "55000/55000 [==============================] - 8s 140us/step - loss: 0.2653 - acc: 0.9019 - val_loss: 0.2347 - val_acc: 0.9104\n"
          ],
          "name": "stdout"
        },
        {
          "output_type": "execute_result",
          "data": {
            "text/plain": [
              "<tensorflow.python.keras.callbacks.History at 0x7f4d1076b358>"
            ]
          },
          "metadata": {
            "tags": []
          },
          "execution_count": 9
        }
      ]
    },
    {
      "metadata": {
        "id": "e-MGLwZQy05d",
        "colab_type": "text"
      },
      "cell_type": "markdown",
      "source": [
        "## Load Model with the best validation accuracy"
      ]
    },
    {
      "metadata": {
        "id": "UD1tecxUZZhE",
        "colab_type": "code",
        "colab": {}
      },
      "cell_type": "code",
      "source": [
        "# Load the weights with the best validation accuracy\n",
        "model.load_weights('model.weights.best.hdf5')"
      ],
      "execution_count": 0,
      "outputs": []
    },
    {
      "metadata": {
        "id": "9RTRkan4yq5H",
        "colab_type": "text"
      },
      "cell_type": "markdown",
      "source": [
        "## Test Accuracy"
      ]
    },
    {
      "metadata": {
        "id": "VZtqBqFFy62R",
        "colab_type": "code",
        "outputId": "db5eddd9-1fa0-41ad-bb68-e0301d0b6ffe",
        "colab": {
          "base_uri": "https://localhost:8080/",
          "height": 51
        }
      },
      "cell_type": "code",
      "source": [
        "# Evaluate the model on test set\n",
        "score = model.evaluate(x_test, y_test, verbose=0)\n",
        "\n",
        "# Print test accuracy\n",
        "print('\\n', 'Test accuracy:', score[1])"
      ],
      "execution_count": 0,
      "outputs": [
        {
          "output_type": "stream",
          "text": [
            "\n",
            " Test accuracy: 0.9062\n"
          ],
          "name": "stdout"
        }
      ]
    },
    {
      "metadata": {
        "id": "oJv7XEk10bOv",
        "colab_type": "text"
      },
      "cell_type": "markdown",
      "source": [
        "## Visualize prediction\n",
        "Now let's visualize the prediction using the model you just trained. \n",
        "First we get the predictions with the model from the test data.\n",
        "Then we print out 15 images from the test data set, and set the titles with the prediction (and the groud truth label).\n",
        "If the prediction matches the true label, the title will be green; otherwise it's displayed in red."
      ]
    },
    {
      "metadata": {
        "id": "QwNmlfIC0YxM",
        "colab_type": "code",
        "outputId": "108c3b80-781c-422f-d1ef-923655a5c23c",
        "colab": {
          "base_uri": "https://localhost:8080/",
          "height": 481
        }
      },
      "cell_type": "code",
      "source": [
        "y_hat = model.predict(x_test)\n",
        "\n",
        "# Plot a random sample of 10 test images, their predicted labels and ground truth\n",
        "figure = plt.figure(figsize=(20, 8))\n",
        "for i, index in enumerate(np.random.choice(x_test.shape[0], size=15, replace=False)):\n",
        "    ax = figure.add_subplot(3, 5, i + 1, xticks=[], yticks=[])\n",
        "    # Display each image\n",
        "    ax.imshow(np.squeeze(x_test[index]))\n",
        "    predict_index = np.argmax(y_hat[index])\n",
        "    true_index = np.argmax(y_test[index])\n",
        "    # Set the title for each image\n",
        "    ax.set_title(\"{} ({})\".format(fashion_mnist_labels[predict_index], \n",
        "                                  fashion_mnist_labels[true_index]),\n",
        "                                  color=(\"green\" if predict_index == true_index else \"red\"))"
      ],
      "execution_count": 0,
      "outputs": [
        {
          "output_type": "display_data",
          "data": {
            "image/png": "[encoded data removed]",
            "text/plain": [
              "<matplotlib.figure.Figure at 0x7f4d13a58400>"
            ]
          },
          "metadata": {
            "tags": []
          }
        }
      ]
    },
    {
      "metadata": {
        "id": "8AehWdRAVKN5",
        "colab_type": "text"
      },
      "cell_type": "markdown",
      "source": [
        "## Congragulations! \n",
        "You have successfully trained a CNN to classify fashion-MNIST with near 90% accuracy."
      ]
    }
  ]
}